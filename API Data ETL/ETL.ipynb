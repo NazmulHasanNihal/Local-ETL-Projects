{
 "cells": [
  {
   "cell_type": "markdown",
   "metadata": {},
   "source": [
    "# <b>  API Data ETL"
   ]
  },
  {
   "cell_type": "code",
   "execution_count": 36,
   "metadata": {},
   "outputs": [],
   "source": [
    "import requests\n",
    "from sqlalchemy import create_engine, Table, Column, MetaData, String, Integer\n",
    "from sqlalchemy.exc import SQLAlchemyError"
   ]
  },
  {
   "cell_type": "markdown",
   "metadata": {},
   "source": [
    "## <b>Extract Data"
   ]
  },
  {
   "cell_type": "code",
   "execution_count": 37,
   "metadata": {},
   "outputs": [],
   "source": [
    "# Replace 'YOUR_API_KEY' with your actual OpenWeather API key\n",
    "api_key = \"Your_API_Key\"\n",
    "city = \"London\"  # You can change the city to any location of your choice\n",
    "weather_api_url = f\"http://api.openweathermap.org/data/2.5/weather?q={city}&appid={api_key}&units=metric\"\n",
    "\n",
    "def fetch_data(url):\n",
    "    \"\"\"Fetch data from the API.\"\"\"\n",
    "    try:\n",
    "        # Make a GET request to the API\n",
    "        response = requests.get(url)\n",
    "        # Raise an exception for HTTP errors\n",
    "        response.raise_for_status()\n",
    "        # Return the JSON response\n",
    "        return response.json()\n",
    "    except requests.exceptions.RequestException as e:\n",
    "        print(f\"Error fetching data: {e}\")\n",
    "        return None"
   ]
  },
  {
   "cell_type": "markdown",
   "metadata": {},
   "source": [
    "## <b> Transform Data"
   ]
  },
  {
   "cell_type": "code",
   "execution_count": 38,
   "metadata": {},
   "outputs": [],
   "source": [
    "def transform_data(data):\n",
    "    \"\"\"Transform JSON data into a tabular format.\"\"\"\n",
    "    if data:\n",
    "        try:\n",
    "            # Extract relevant data from the JSON response\n",
    "            transformed_data = {\n",
    "                'temperature': data['main']['temp'],  # Temperature in Celsius\n",
    "                'humidity': data['main']['humidity'],  # Humidity in percentage\n",
    "                'description': data['weather'][0]['description']  # Weather description\n",
    "            }\n",
    "            return transformed_data\n",
    "        except KeyError as e:\n",
    "            print(f\"Error transforming data: Missing key {e}\")\n",
    "            return None\n",
    "    else:\n",
    "        return None"
   ]
  },
  {
   "cell_type": "markdown",
   "metadata": {},
   "source": [
    "## <b> Load Data"
   ]
  },
  {
   "cell_type": "code",
   "execution_count": 39,
   "metadata": {},
   "outputs": [],
   "source": [
    "def load_data(data):\n",
    "    \"\"\"Load data into a SQLite database.\"\"\"\n",
    "    if data:\n",
    "        try:\n",
    "            # Create a SQLite engine\n",
    "            engine = create_engine('sqlite:///weather_data.db', echo=True)\n",
    "            # Create a metadata object\n",
    "            metadata = MetaData()\n",
    "\n",
    "            # Define a table schema\n",
    "            weather_table = Table('weather', metadata,\n",
    "                                  Column('id', Integer, primary_key=True, autoincrement=True),\n",
    "                                  Column('temperature', String),\n",
    "                                  Column('humidity', String),\n",
    "                                  Column('description', String))\n",
    "\n",
    "            # Create the table in the database\n",
    "            metadata.create_all(engine)\n",
    "\n",
    "            # Insert data into the table\n",
    "            with engine.connect() as connection:\n",
    "                insert_stmt = weather_table.insert().values(\n",
    "                    temperature=data['temperature'],\n",
    "                    humidity=data['humidity'],\n",
    "                    description=data['description']\n",
    "                )\n",
    "                # Execute the insert statement\n",
    "                connection.execute(insert_stmt)\n",
    "                connection.commit()  # Explicitly commit the transaction\n",
    "                print(\"Data loaded successfully.\")\n",
    "        except SQLAlchemyError as e:\n",
    "            print(f\"Error loading data: {e}\")\n",
    "    else:\n",
    "        print(\"No data to load.\")\n"
   ]
  },
  {
   "cell_type": "markdown",
   "metadata": {},
   "source": [
    "## <b>Main Function"
   ]
  },
  {
   "cell_type": "code",
   "execution_count": 40,
   "metadata": {},
   "outputs": [
    {
     "name": "stdout",
     "output_type": "stream",
     "text": [
      "2024-06-28 23:40:50,651 INFO sqlalchemy.engine.Engine BEGIN (implicit)\n",
      "2024-06-28 23:40:50,652 INFO sqlalchemy.engine.Engine PRAGMA main.table_info(\"weather\")\n",
      "2024-06-28 23:40:50,653 INFO sqlalchemy.engine.Engine [raw sql] ()\n",
      "2024-06-28 23:40:50,656 INFO sqlalchemy.engine.Engine COMMIT\n",
      "2024-06-28 23:40:50,659 INFO sqlalchemy.engine.Engine BEGIN (implicit)\n",
      "2024-06-28 23:40:50,660 INFO sqlalchemy.engine.Engine INSERT INTO weather (temperature, humidity, description) VALUES (?, ?, ?)\n",
      "2024-06-28 23:40:50,661 INFO sqlalchemy.engine.Engine [generated in 0.00232s] (19.9, 51, 'few clouds')\n",
      "2024-06-28 23:40:50,664 INFO sqlalchemy.engine.Engine COMMIT\n",
      "Data loaded successfully.\n"
     ]
    }
   ],
   "source": [
    "# Run the ETL process\n",
    "weather_data = fetch_data(weather_api_url)  # Extract data from the API\n",
    "transformed_weather_data = transform_data(weather_data)  # Transform the data\n",
    "load_data(transformed_weather_data)  # Load the data into the database"
   ]
  }
 ],
 "metadata": {
  "kernelspec": {
   "display_name": "venv",
   "language": "python",
   "name": "python3"
  },
  "language_info": {
   "codemirror_mode": {
    "name": "ipython",
    "version": 3
   },
   "file_extension": ".py",
   "mimetype": "text/x-python",
   "name": "python",
   "nbconvert_exporter": "python",
   "pygments_lexer": "ipython3",
   "version": "3.12.2"
  }
 },
 "nbformat": 4,
 "nbformat_minor": 2
}
