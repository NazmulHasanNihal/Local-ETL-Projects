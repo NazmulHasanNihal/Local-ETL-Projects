{
 "cells": [
  {
   "cell_type": "markdown",
   "metadata": {},
   "source": [
    "# <b>IoT Sensor Data ETL"
   ]
  },
  {
   "cell_type": "code",
   "execution_count": 11,
   "metadata": {},
   "outputs": [],
   "source": [
    "import random\n",
    "import time\n",
    "import sqlite3\n",
    "from datetime import datetime, timedelta"
   ]
  },
  {
   "cell_type": "markdown",
   "metadata": {},
   "source": [
    "## <b>Extract Data"
   ]
  },
  {
   "cell_type": "code",
   "execution_count": 12,
   "metadata": {},
   "outputs": [],
   "source": [
    "def simulate_large_sensor_data(sensor_ids, num_records):\n",
    "    data = []\n",
    "    start_time = datetime.now() - timedelta(days=1)  # Start 1 day ago\n",
    "    for _ in range(num_records):\n",
    "        for sensor_id in sensor_ids:\n",
    "            timestamp = start_time + timedelta(seconds=random.randint(0, 86400))  # Random timestamp within the day\n",
    "            temperature = round(random.uniform(20.0, 30.0), 2)\n",
    "            humidity = round(random.uniform(30.0, 60.0), 2)\n",
    "            data.append((sensor_id, timestamp.strftime('%Y-%m-%d %H:%M:%S'), temperature, humidity))\n",
    "    return data"
   ]
  },
  {
   "cell_type": "markdown",
   "metadata": {},
   "source": [
    "## <b>Transform Data"
   ]
  },
  {
   "cell_type": "code",
   "execution_count": 13,
   "metadata": {},
   "outputs": [],
   "source": [
    "def transform_data(data):\n",
    "    sensor_data = {}\n",
    "    for record in data:\n",
    "        sensor_id = record[0]\n",
    "        temperature = record[2]\n",
    "        humidity = record[3]\n",
    "        if sensor_id not in sensor_data:\n",
    "            sensor_data[sensor_id] = {'total_temp': 0, 'total_humidity': 0, 'count': 0}\n",
    "        sensor_data[sensor_id]['total_temp'] += temperature\n",
    "        sensor_data[sensor_id]['total_humidity'] += humidity\n",
    "        sensor_data[sensor_id]['count'] += 1\n",
    "\n",
    "    transformed_data = []\n",
    "    for sensor_id, values in sensor_data.items():\n",
    "        avg_temp = values['total_temp'] / values['count']\n",
    "        avg_humidity = values['total_humidity'] / values['count']\n",
    "        transformed_data.append((sensor_id, avg_temp, avg_humidity))\n",
    "    return transformed_data"
   ]
  },
  {
   "cell_type": "markdown",
   "metadata": {},
   "source": [
    "## <b>Load Data"
   ]
  },
  {
   "cell_type": "code",
   "execution_count": 14,
   "metadata": {},
   "outputs": [],
   "source": [
    "def load_data_to_db(db_name, table_name, transformed_data):\n",
    "    conn = sqlite3.connect(db_name)\n",
    "    cursor = conn.cursor()\n",
    "    cursor.execute(f\"\"\"\n",
    "        CREATE TABLE IF NOT EXISTS {table_name} (\n",
    "            sensor_id INTEGER,\n",
    "            timestamp TEXT,\n",
    "            avg_temperature REAL,\n",
    "            avg_humidity REAL\n",
    "        )\n",
    "    \"\"\")\n",
    "    timestamp = datetime.now().strftime('%Y-%m-%d %H:%M:%S')\n",
    "    for record in transformed_data:\n",
    "        cursor.execute(f\"\"\"\n",
    "            INSERT INTO {table_name} (sensor_id, timestamp, avg_temperature, avg_humidity)\n",
    "            VALUES (?, ?, ?, ?)\n",
    "        \"\"\", (record[0], timestamp, record[1], record[2]))\n",
    "    conn.commit()\n",
    "    conn.close()"
   ]
  },
  {
   "cell_type": "markdown",
   "metadata": {},
   "source": [
    "## <b> Main Function"
   ]
  },
  {
   "cell_type": "code",
   "execution_count": 15,
   "metadata": {},
   "outputs": [
    {
     "name": "stdout",
     "output_type": "stream",
     "text": [
      "Generated 100000 records\n",
      "Sensor ID: 1, Average Temperature: 24.93°C, Average Humidity: 45.17%\n",
      "Sensor ID: 2, Average Temperature: 25.02°C, Average Humidity: 45.10%\n",
      "Sensor ID: 3, Average Temperature: 25.03°C, Average Humidity: 44.99%\n",
      "Sensor ID: 4, Average Temperature: 25.00°C, Average Humidity: 45.34%\n",
      "Sensor ID: 5, Average Temperature: 24.85°C, Average Humidity: 44.99%\n",
      "Sensor ID: 6, Average Temperature: 25.08°C, Average Humidity: 44.87%\n",
      "Sensor ID: 7, Average Temperature: 24.94°C, Average Humidity: 44.95%\n",
      "Sensor ID: 8, Average Temperature: 24.88°C, Average Humidity: 44.98%\n",
      "Sensor ID: 9, Average Temperature: 25.03°C, Average Humidity: 44.78%\n",
      "Sensor ID: 10, Average Temperature: 25.12°C, Average Humidity: 45.60%\n",
      "Sensor ID: 11, Average Temperature: 25.07°C, Average Humidity: 44.99%\n",
      "Sensor ID: 12, Average Temperature: 24.91°C, Average Humidity: 45.17%\n",
      "Sensor ID: 13, Average Temperature: 25.09°C, Average Humidity: 44.84%\n",
      "Sensor ID: 14, Average Temperature: 24.92°C, Average Humidity: 45.15%\n",
      "Sensor ID: 15, Average Temperature: 24.90°C, Average Humidity: 44.89%\n",
      "Sensor ID: 16, Average Temperature: 24.94°C, Average Humidity: 44.77%\n",
      "Sensor ID: 17, Average Temperature: 24.98°C, Average Humidity: 45.07%\n",
      "Sensor ID: 18, Average Temperature: 25.01°C, Average Humidity: 45.48%\n",
      "Sensor ID: 19, Average Temperature: 25.13°C, Average Humidity: 45.21%\n",
      "Sensor ID: 20, Average Temperature: 25.08°C, Average Humidity: 45.08%\n",
      "Sensor ID: 21, Average Temperature: 24.87°C, Average Humidity: 44.24%\n",
      "Sensor ID: 22, Average Temperature: 25.02°C, Average Humidity: 44.76%\n",
      "Sensor ID: 23, Average Temperature: 25.07°C, Average Humidity: 44.78%\n",
      "Sensor ID: 24, Average Temperature: 25.07°C, Average Humidity: 45.12%\n",
      "Sensor ID: 25, Average Temperature: 24.91°C, Average Humidity: 45.04%\n",
      "Sensor ID: 26, Average Temperature: 24.97°C, Average Humidity: 44.28%\n",
      "Sensor ID: 27, Average Temperature: 24.91°C, Average Humidity: 45.00%\n",
      "Sensor ID: 28, Average Temperature: 25.06°C, Average Humidity: 44.99%\n",
      "Sensor ID: 29, Average Temperature: 24.90°C, Average Humidity: 44.92%\n",
      "Sensor ID: 30, Average Temperature: 25.03°C, Average Humidity: 45.01%\n",
      "Sensor ID: 31, Average Temperature: 24.91°C, Average Humidity: 44.42%\n",
      "Sensor ID: 32, Average Temperature: 25.09°C, Average Humidity: 45.05%\n",
      "Sensor ID: 33, Average Temperature: 24.87°C, Average Humidity: 45.01%\n",
      "Sensor ID: 34, Average Temperature: 25.10°C, Average Humidity: 45.04%\n",
      "Sensor ID: 35, Average Temperature: 24.88°C, Average Humidity: 44.25%\n",
      "Sensor ID: 36, Average Temperature: 25.09°C, Average Humidity: 44.55%\n",
      "Sensor ID: 37, Average Temperature: 25.01°C, Average Humidity: 44.94%\n",
      "Sensor ID: 38, Average Temperature: 25.04°C, Average Humidity: 44.74%\n",
      "Sensor ID: 39, Average Temperature: 25.10°C, Average Humidity: 45.17%\n",
      "Sensor ID: 40, Average Temperature: 25.15°C, Average Humidity: 45.39%\n",
      "Sensor ID: 41, Average Temperature: 24.99°C, Average Humidity: 44.99%\n",
      "Sensor ID: 42, Average Temperature: 24.99°C, Average Humidity: 44.70%\n",
      "Sensor ID: 43, Average Temperature: 25.07°C, Average Humidity: 44.78%\n",
      "Sensor ID: 44, Average Temperature: 24.99°C, Average Humidity: 44.98%\n",
      "Sensor ID: 45, Average Temperature: 25.01°C, Average Humidity: 44.99%\n",
      "Sensor ID: 46, Average Temperature: 25.05°C, Average Humidity: 44.69%\n",
      "Sensor ID: 47, Average Temperature: 24.99°C, Average Humidity: 45.03%\n",
      "Sensor ID: 48, Average Temperature: 25.12°C, Average Humidity: 44.83%\n",
      "Sensor ID: 49, Average Temperature: 24.99°C, Average Humidity: 45.31%\n",
      "Sensor ID: 50, Average Temperature: 24.92°C, Average Humidity: 45.18%\n",
      "Sensor ID: 51, Average Temperature: 24.98°C, Average Humidity: 44.94%\n",
      "Sensor ID: 52, Average Temperature: 24.97°C, Average Humidity: 44.95%\n",
      "Sensor ID: 53, Average Temperature: 25.20°C, Average Humidity: 44.55%\n",
      "Sensor ID: 54, Average Temperature: 24.96°C, Average Humidity: 45.14%\n",
      "Sensor ID: 55, Average Temperature: 24.84°C, Average Humidity: 45.25%\n",
      "Sensor ID: 56, Average Temperature: 24.73°C, Average Humidity: 44.98%\n",
      "Sensor ID: 57, Average Temperature: 25.00°C, Average Humidity: 44.94%\n",
      "Sensor ID: 58, Average Temperature: 25.01°C, Average Humidity: 45.63%\n",
      "Sensor ID: 59, Average Temperature: 24.84°C, Average Humidity: 44.79%\n",
      "Sensor ID: 60, Average Temperature: 25.16°C, Average Humidity: 44.99%\n",
      "Sensor ID: 61, Average Temperature: 24.93°C, Average Humidity: 44.87%\n",
      "Sensor ID: 62, Average Temperature: 25.02°C, Average Humidity: 44.67%\n",
      "Sensor ID: 63, Average Temperature: 24.98°C, Average Humidity: 45.02%\n",
      "Sensor ID: 64, Average Temperature: 24.93°C, Average Humidity: 44.92%\n",
      "Sensor ID: 65, Average Temperature: 24.97°C, Average Humidity: 44.64%\n",
      "Sensor ID: 66, Average Temperature: 25.06°C, Average Humidity: 45.36%\n",
      "Sensor ID: 67, Average Temperature: 25.02°C, Average Humidity: 45.00%\n",
      "Sensor ID: 68, Average Temperature: 24.77°C, Average Humidity: 45.45%\n",
      "Sensor ID: 69, Average Temperature: 25.03°C, Average Humidity: 45.23%\n",
      "Sensor ID: 70, Average Temperature: 25.16°C, Average Humidity: 45.16%\n",
      "Sensor ID: 71, Average Temperature: 25.11°C, Average Humidity: 44.53%\n",
      "Sensor ID: 72, Average Temperature: 24.89°C, Average Humidity: 45.06%\n",
      "Sensor ID: 73, Average Temperature: 25.02°C, Average Humidity: 45.36%\n",
      "Sensor ID: 74, Average Temperature: 25.00°C, Average Humidity: 45.17%\n",
      "Sensor ID: 75, Average Temperature: 24.83°C, Average Humidity: 45.11%\n",
      "Sensor ID: 76, Average Temperature: 25.06°C, Average Humidity: 44.70%\n",
      "Sensor ID: 77, Average Temperature: 25.04°C, Average Humidity: 45.05%\n",
      "Sensor ID: 78, Average Temperature: 25.12°C, Average Humidity: 45.03%\n",
      "Sensor ID: 79, Average Temperature: 24.96°C, Average Humidity: 44.66%\n",
      "Sensor ID: 80, Average Temperature: 24.97°C, Average Humidity: 45.07%\n",
      "Sensor ID: 81, Average Temperature: 24.90°C, Average Humidity: 45.14%\n",
      "Sensor ID: 82, Average Temperature: 24.92°C, Average Humidity: 44.98%\n",
      "Sensor ID: 83, Average Temperature: 25.05°C, Average Humidity: 44.97%\n",
      "Sensor ID: 84, Average Temperature: 25.05°C, Average Humidity: 44.78%\n",
      "Sensor ID: 85, Average Temperature: 24.96°C, Average Humidity: 44.71%\n",
      "Sensor ID: 86, Average Temperature: 24.91°C, Average Humidity: 45.12%\n",
      "Sensor ID: 87, Average Temperature: 25.13°C, Average Humidity: 45.07%\n",
      "Sensor ID: 88, Average Temperature: 24.91°C, Average Humidity: 44.43%\n",
      "Sensor ID: 89, Average Temperature: 24.98°C, Average Humidity: 45.07%\n",
      "Sensor ID: 90, Average Temperature: 25.00°C, Average Humidity: 44.86%\n",
      "Sensor ID: 91, Average Temperature: 24.85°C, Average Humidity: 45.08%\n",
      "Sensor ID: 92, Average Temperature: 25.05°C, Average Humidity: 45.09%\n",
      "Sensor ID: 93, Average Temperature: 24.92°C, Average Humidity: 44.64%\n",
      "Sensor ID: 94, Average Temperature: 24.78°C, Average Humidity: 45.37%\n",
      "Sensor ID: 95, Average Temperature: 25.07°C, Average Humidity: 45.33%\n",
      "Sensor ID: 96, Average Temperature: 25.06°C, Average Humidity: 44.77%\n",
      "Sensor ID: 97, Average Temperature: 25.08°C, Average Humidity: 44.94%\n",
      "Sensor ID: 98, Average Temperature: 25.11°C, Average Humidity: 45.42%\n",
      "Sensor ID: 99, Average Temperature: 24.94°C, Average Humidity: 45.31%\n",
      "Sensor ID: 100, Average Temperature: 25.03°C, Average Humidity: 44.88%\n"
     ]
    }
   ],
   "source": [
    "sensor_ids = range(1, 101)  # Simulate 10 sensors\n",
    "num_records = 1000  # Generate 1000 random inputs\n",
    "\n",
    "large_sensor_data = simulate_large_sensor_data(sensor_ids, num_records)\n",
    "print(f\"Generated {len(large_sensor_data)} records\")\n",
    "\n",
    "transformed_large_sensor_data = transform_data(large_sensor_data)\n",
    "for record in transformed_large_sensor_data:\n",
    "    print(f\"Sensor ID: {record[0]}, Average Temperature: {record[1]:.2f}°C, Average Humidity: {record[2]:.2f}%\")\n",
    "\n",
    "load_data_to_db('sensor_data.db', 'sensor_readings', transformed_large_sensor_data)"
   ]
  }
 ],
 "metadata": {
  "kernelspec": {
   "display_name": "venv",
   "language": "python",
   "name": "python3"
  },
  "language_info": {
   "codemirror_mode": {
    "name": "ipython",
    "version": 3
   },
   "file_extension": ".py",
   "mimetype": "text/x-python",
   "name": "python",
   "nbconvert_exporter": "python",
   "pygments_lexer": "ipython3",
   "version": "3.12.2"
  }
 },
 "nbformat": 4,
 "nbformat_minor": 2
}
