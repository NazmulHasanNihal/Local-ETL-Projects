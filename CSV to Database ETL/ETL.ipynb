{
 "cells": [
  {
   "cell_type": "markdown",
   "metadata": {},
   "source": [
    "# <b>CSV to Database ETL"
   ]
  },
  {
   "cell_type": "code",
   "execution_count": 35,
   "metadata": {},
   "outputs": [],
   "source": [
    "import pandas as pd\n",
    "import sqlite3\n",
    "from sklearn.preprocessing import StandardScaler\n",
    "import matplotlib as plt"
   ]
  },
  {
   "cell_type": "markdown",
   "metadata": {},
   "source": [
    "## <b>Extract Data"
   ]
  },
  {
   "cell_type": "code",
   "execution_count": 36,
   "metadata": {},
   "outputs": [],
   "source": [
    "# Function to read data from the CSV file\n",
    "def extract_data(file_path):\n",
    "    df = pd.read_csv(file_path)\n",
    "    return df"
   ]
  },
  {
   "cell_type": "markdown",
   "metadata": {},
   "source": [
    "## <b>Transform Data"
   ]
  },
  {
   "cell_type": "code",
   "execution_count": 37,
   "metadata": {},
   "outputs": [],
   "source": [
    "# Function to clean and preprocess the data\n",
    "def transform_data(df):\n",
    "\n",
    "    # Handle missing values\n",
    "    if 'release_date' in df.columns:\n",
    "        df['release_date'] = df['release_date'].fillna(pd.to_datetime('1970-01-01'))  # Replace missing dates with a default date\n",
    "\n",
    "    # Convert release_date to datetime and extract year, month, day\n",
    "    if 'release_date' in df.columns:\n",
    "        df['release_date'] = pd.to_datetime(df['release_date'], errors='coerce')\n",
    "        df['release_year'] = df['release_date'].dt.year\n",
    "        df['release_month'] = df['release_date'].dt.month\n",
    "        df['release_day'] = df['release_date'].dt.day\n",
    "\n",
    "    # Normalize numerical columns (popularity, vote_average, vote_count)\n",
    "    scaler = StandardScaler()\n",
    "    numerical_columns = ['popularity', 'vote_average', 'vote_count']\n",
    "    for col in numerical_columns:\n",
    "        if col in df.columns:\n",
    "            df.fillna({'df[col]': 'mean'}, inplace=True)  # Replace missing values with the mean\n",
    "    df[numerical_columns] = scaler.fit_transform(df[numerical_columns])\n",
    "\n",
    "    # Ensure data types are consistent\n",
    "    dtype_mapping = {\n",
    "        'title': 'string',\n",
    "        'overview': 'string',\n",
    "        'release_year': 'int',\n",
    "        'release_month': 'int',\n",
    "        'release_day': 'int',\n",
    "        'popularity': 'float',\n",
    "        'vote_average': 'float',\n",
    "        'vote_count': 'float'\n",
    "    }\n",
    "    for col, dtype in dtype_mapping.items():\n",
    "        if col in df.columns:\n",
    "            df[col] = df[col].astype(dtype)\n",
    "\n",
    "    return df"
   ]
  },
  {
   "cell_type": "markdown",
   "metadata": {},
   "source": [
    "## <b> Load Data"
   ]
  },
  {
   "cell_type": "code",
   "execution_count": 38,
   "metadata": {},
   "outputs": [],
   "source": [
    "# Function to load data into SQLite database\n",
    "def load_data(df, db_name, table_name):\n",
    "    conn = sqlite3.connect(db_name)\n",
    "    df.to_sql(table_name, conn, if_exists='replace', index=False)\n",
    "    conn.close()"
   ]
  },
  {
   "cell_type": "markdown",
   "metadata": {},
   "source": [
    "## <b>Main ETL"
   ]
  },
  {
   "cell_type": "code",
   "execution_count": 39,
   "metadata": {},
   "outputs": [],
   "source": [
    "def etl(file_path, db_name, table_name):\n",
    "    data = extract_data(file_path)\n",
    "    transformed_data = transform_data(data)\n",
    "    load_data(transformed_data, db_name, table_name)"
   ]
  },
  {
   "cell_type": "markdown",
   "metadata": {},
   "source": [
    "## <b>Example Usage"
   ]
  },
  {
   "cell_type": "code",
   "execution_count": 40,
   "metadata": {},
   "outputs": [],
   "source": [
    "# Example usage\n",
    "file_path = 'CSV_Data/movies.csv'  # Path to the uploaded CSV file\n",
    "db_name = 'movies.db'  # Name of the SQLite database\n",
    "table_name = 'imdb_movies_list'  # Name of the table to create\n",
    "\n",
    "etl(file_path, db_name, table_name)"
   ]
  }
 ],
 "metadata": {
  "kernelspec": {
   "display_name": "venv",
   "language": "python",
   "name": "python3"
  },
  "language_info": {
   "codemirror_mode": {
    "name": "ipython",
    "version": 3
   },
   "file_extension": ".py",
   "mimetype": "text/x-python",
   "name": "python",
   "nbconvert_exporter": "python",
   "pygments_lexer": "ipython3",
   "version": "3.12.2"
  }
 },
 "nbformat": 4,
 "nbformat_minor": 2
}
