{
 "cells": [
  {
   "cell_type": "markdown",
   "metadata": {},
   "source": [
    "# <b>Email Data ETL"
   ]
  },
  {
   "cell_type": "code",
   "execution_count": 1,
   "metadata": {},
   "outputs": [],
   "source": [
    "import imaplib\n",
    "import email\n",
    "from email.header import decode_header\n",
    "import webbrowser\n",
    "import os\n",
    "from bs4 import BeautifulSoup\n",
    "import sqlite3"
   ]
  },
  {
   "cell_type": "markdown",
   "metadata": {},
   "source": [
    "## <b>Extract Data\n"
   ]
  },
  {
   "cell_type": "code",
   "execution_count": null,
   "metadata": {},
   "outputs": [],
   "source": [
    "# Set email credentials and server details\n",
    "username = 'your_email@example.com'\n",
    "password = 'your_password'\n",
    "imap_server = 'imap.example.com'\n",
    "\n",
    "# Connect to the server and go to its inbox\n",
    "mail = imaplib.IMAP4_SSL(imap_server)\n",
    "mail.login(username, password)\n",
    "mail.select(\"inbox\")\n",
    "\n",
    "# Search for all emails in the inbox\n",
    "status, messages = mail.search(None, \"ALL\")\n",
    "\n",
    "# Convert messages to a list of email IDs\n",
    "email_ids = messages[0].split()\n",
    "\n",
    "for email_id in email_ids:\n",
    "    # Fetch the email by ID\n",
    "    status, msg_data = mail.fetch(email_id, \"(RFC822)\")\n",
    "    \n",
    "    # Parse the email\n",
    "    for response_part in msg_data:\n",
    "        if isinstance(response_part, tuple):\n",
    "            msg = email.message_from_bytes(response_part[1])\n",
    "            subject = decode_header(msg[\"Subject\"])[0][0]\n",
    "            if isinstance(subject, bytes):\n",
    "                subject = subject.decode()\n",
    "            from_ = msg.get(\"From\")\n",
    "            print(\"Subject:\", subject)\n",
    "            print(\"From:\", from_)\n",
    "            \n",
    "            # If the email message is multipart\n",
    "            if msg.is_multipart():\n",
    "                for part in msg.walk():\n",
    "                    # Extract content type of the email\n",
    "                    content_type = part.get_content_type()\n",
    "                    content_disposition = str(part.get(\"Content-Disposition\"))\n",
    "\n",
    "                    try:\n",
    "                        # Get the email body\n",
    "                        body = part.get_payload(decode=True).decode()\n",
    "                        print(\"Body:\", body)\n",
    "                    except:\n",
    "                        pass"
   ]
  },
  {
   "cell_type": "markdown",
   "metadata": {},
   "source": [
    "## <b>Transform Data"
   ]
  },
  {
   "cell_type": "code",
   "execution_count": null,
   "metadata": {},
   "outputs": [],
   "source": [
    "def clean_email_body(body):\n",
    "    soup = BeautifulSoup(body, \"html.parser\")\n",
    "    return soup.get_text()\n",
    "\n",
    "for email_id in email_ids:\n",
    "    status, msg_data = mail.fetch(email_id, \"(RFC822)\")\n",
    "    for response_part in msg_data:\n",
    "        if isinstance(response_part, tuple):\n",
    "            msg = email.message_from_bytes(response_part[1])\n",
    "            subject = decode_header(msg[\"Subject\"])[0][0]\n",
    "            if isinstance(subject, bytes):\n",
    "                subject = subject.decode()\n",
    "            from_ = msg.get(\"From\")\n",
    "            \n",
    "            if msg.is_multipart():\n",
    "                for part in msg.walk():\n",
    "                    content_type = part.get_content_type()\n",
    "                    content_disposition = str(part.get(\"Content-Disposition\"))\n",
    "                    try:\n",
    "                        body = part.get_payload(decode=True).decode()\n",
    "                        clean_body = clean_email_body(body)\n",
    "                        print(\"Clean Body:\", clean_body)\n",
    "                    except:\n",
    "                        pass"
   ]
  },
  {
   "cell_type": "markdown",
   "metadata": {},
   "source": [
    "## <b>Load Data"
   ]
  },
  {
   "cell_type": "code",
   "execution_count": null,
   "metadata": {},
   "outputs": [],
   "source": [
    "# Connect to SQLite database (or create it if it doesn't exist)\n",
    "conn = sqlite3.connect('emails.db')\n",
    "cursor = conn.cursor()\n",
    "\n",
    "# Create a table to store email data\n",
    "cursor.execute('''\n",
    "CREATE TABLE IF NOT EXISTS emails (\n",
    "    id INTEGER PRIMARY KEY AUTOINCREMENT,\n",
    "    subject TEXT,\n",
    "    sender TEXT,\n",
    "    body TEXT\n",
    ")\n",
    "''')\n",
    "\n",
    "# Insert email data into the table\n",
    "def insert_email(subject, sender, body):\n",
    "    cursor.execute('''\n",
    "    INSERT INTO emails (subject, sender, body) VALUES (?, ?, ?)\n",
    "    ''', (subject, sender, body))\n",
    "    conn.commit()\n",
    "\n",
    "for email_id in email_ids:\n",
    "    status, msg_data = mail.fetch(email_id, \"(RFC822)\")\n",
    "    for response_part in msg_data:\n",
    "        if isinstance(response_part, tuple):\n",
    "            msg = email.message_from_bytes(response_part[1])\n",
    "            subject = decode_header(msg[\"Subject\"])[0][0]\n",
    "            if isinstance(subject, bytes):\n",
    "                subject = subject.decode()\n",
    "            from_ = msg.get(\"From\")\n",
    "            \n",
    "            if msg.is_multipart():\n",
    "                for part in msg.walk():\n",
    "                    content_type = part.get_content_type()\n",
    "                    content_disposition = str(part.get(\"Content-Disposition\"))\n",
    "                    try:\n",
    "                        body = part.get_payload(decode=True).decode()\n",
    "                        clean_body = clean_email_body(body)\n",
    "                        insert_email(subject, from_, clean_body)\n",
    "                    except:\n",
    "                        pass\n",
    "\n",
    "# Close the connection\n",
    "conn.close()\n",
    "mail.logout()"
   ]
  }
 ],
 "metadata": {
  "kernelspec": {
   "display_name": "venv",
   "language": "python",
   "name": "python3"
  },
  "language_info": {
   "codemirror_mode": {
    "name": "ipython",
    "version": 3
   },
   "file_extension": ".py",
   "mimetype": "text/x-python",
   "name": "python",
   "nbconvert_exporter": "python",
   "pygments_lexer": "ipython3",
   "version": "3.12.2"
  }
 },
 "nbformat": 4,
 "nbformat_minor": 2
}
