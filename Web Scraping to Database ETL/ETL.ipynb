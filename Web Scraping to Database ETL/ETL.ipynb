{
 "cells": [
  {
   "cell_type": "markdown",
   "metadata": {},
   "source": [
    "# <b>Web Scraping To Data ETL"
   ]
  },
  {
   "cell_type": "code",
   "execution_count": 30,
   "metadata": {},
   "outputs": [],
   "source": [
    "# Importing necessary libraries\n",
    "import requests\n",
    "from bs4 import BeautifulSoup\n",
    "import sqlite3"
   ]
  },
  {
   "cell_type": "markdown",
   "metadata": {},
   "source": [
    "## <b>Extract Data"
   ]
  },
  {
   "cell_type": "code",
   "execution_count": 31,
   "metadata": {},
   "outputs": [],
   "source": [
    "def scrape_data(url):\n",
    "    # Sending a GET request to the specified URL\n",
    "    response = requests.get(url)\n",
    "    \n",
    "    # Parsing the HTML content of the webpage using BeautifulSoup\n",
    "    soup = BeautifulSoup(response.text, 'html.parser')\n",
    "    \n",
    "    data = []  # Initializing an empty list to store scraped data\n",
    "    \n",
    "    # Iterating through each book element in the HTML\n",
    "    for book in soup.find_all('article', class_='product_pod'):\n",
    "        # Extracting the title of the book\n",
    "        title = book.h3.a['title']\n",
    "        \n",
    "        # Extracting the price of the book\n",
    "        price = book.find('p', class_='price_color').get_text(strip=True)\n",
    "        \n",
    "        # Appending the tuple (title, price) to the data list\n",
    "        data.append((title, price))\n",
    "    \n",
    "    return data  # Returning the list of tuples containing scraped data"
   ]
  },
  {
   "cell_type": "markdown",
   "metadata": {},
   "source": [
    "## <b> Transform Data"
   ]
  },
  {
   "cell_type": "code",
   "execution_count": 32,
   "metadata": {},
   "outputs": [],
   "source": [
    "def transform_data(raw_data):\n",
    "    transformed_data = []  # Initializing an empty list for transformed data\n",
    "    \n",
    "    # Iterating through each item in raw_data\n",
    "    for item in raw_data:\n",
    "        title, price = item  # Unpacking each tuple into title and price\n",
    "        transformed_data.append((title, price))  # Appending transformed tuple to the list\n",
    "    \n",
    "    return transformed_data  # Returning the transformed data"
   ]
  },
  {
   "cell_type": "markdown",
   "metadata": {},
   "source": [
    "## <b> Load Data"
   ]
  },
  {
   "cell_type": "code",
   "execution_count": 33,
   "metadata": {},
   "outputs": [],
   "source": [
    "def load_data(data):\n",
    "    conn = sqlite3.connect('books.db')\n",
    "    cursor = conn.cursor()\n",
    "    \n",
    "    # Droping the table if its already exists\n",
    "    cursor.execute('DROP TABLE IF EXISTS books')\n",
    "    \n",
    "    # Creating a new table\n",
    "    cursor.execute('''\n",
    "        CREATE TABLE books (\n",
    "            id INTEGER PRIMARY KEY AUTOINCREMENT,\n",
    "            title TEXT,\n",
    "            price TEXT\n",
    "        )\n",
    "    ''')\n",
    "    \n",
    "    # Inserting the data into the table\n",
    "    cursor.executemany('INSERT INTO books (title, price) VALUES (?, ?)', data)\n",
    "    \n",
    "    # Commit changing and closing the connection\n",
    "    conn.commit()\n",
    "    conn.close()"
   ]
  },
  {
   "cell_type": "markdown",
   "metadata": {},
   "source": [
    "## <b> Main Function"
   ]
  },
  {
   "cell_type": "code",
   "execution_count": 34,
   "metadata": {},
   "outputs": [],
   "source": [
    "def main():\n",
    "    url = 'https://books.toscrape.com/index.html' # Web Scrapping Url\n",
    "    raw_data = scrape_data(url)\n",
    "    transformed_data = transform_data(raw_data)\n",
    "    load_data(transformed_data)\n",
    "\n",
    "if __name__ == '__main__':\n",
    "    main()"
   ]
  }
 ],
 "metadata": {
  "kernelspec": {
   "display_name": "venv",
   "language": "python",
   "name": "python3"
  },
  "language_info": {
   "codemirror_mode": {
    "name": "ipython",
    "version": 3
   },
   "file_extension": ".py",
   "mimetype": "text/x-python",
   "name": "python",
   "nbconvert_exporter": "python",
   "pygments_lexer": "ipython3",
   "version": "3.12.2"
  }
 },
 "nbformat": 4,
 "nbformat_minor": 2
}
