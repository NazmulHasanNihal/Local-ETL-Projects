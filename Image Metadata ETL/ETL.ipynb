{
 "cells": [
  {
   "cell_type": "markdown",
   "metadata": {},
   "source": [
    "# <b>Image Metadata ETL"
   ]
  },
  {
   "cell_type": "code",
   "execution_count": 17,
   "metadata": {},
   "outputs": [],
   "source": [
    "import os\n",
    "from PIL import Image\n",
    "import sqlite3\n",
    "import time"
   ]
  },
  {
   "cell_type": "markdown",
   "metadata": {},
   "source": [
    "## <b>Extract Data"
   ]
  },
  {
   "cell_type": "code",
   "execution_count": 18,
   "metadata": {},
   "outputs": [],
   "source": [
    "def extract_image_files(directory):\n",
    "    image_files = []  # Initializing an empty list to store image file paths\n",
    "    \n",
    "    # Iterating through files in the specified directory\n",
    "    for file in os.listdir(directory):\n",
    "        # Checking if the file has an image file extension\n",
    "        if file.lower().endswith(('.png', '.jpg', '.jpeg', '.gif', '.bmp', '.tiff')):\n",
    "            # Appending the absolute path of the image file to the list\n",
    "            image_files.append(os.path.join(directory, file))\n",
    "    \n",
    "    return image_files  # Returning the list of image file paths"
   ]
  },
  {
   "cell_type": "markdown",
   "metadata": {},
   "source": [
    "## <b>Transform Data"
   ]
  },
  {
   "cell_type": "code",
   "execution_count": 19,
   "metadata": {},
   "outputs": [],
   "source": [
    "def transform_image_metadata(image_files):\n",
    "    metadata = []  # Initializing an empty list to store transformed metadata\n",
    "    \n",
    "    # Iterating through each image file in the provided list\n",
    "    for image_file in image_files:\n",
    "        with Image.open(image_file) as img:\n",
    "            # Extracting metadata from the image using Pillow (PIL)\n",
    "            resolution = img.size  # Getting image resolution (width, height)\n",
    "            file_size = os.path.getsize(image_file)  # Getting file size in bytes\n",
    "            image_format = img.format  # Getting image file format (e.g., JPEG, PNG)\n",
    "            mode = img.mode  # Getting image mode (e.g., RGB, RGBA)\n",
    "            last_modified_time = time.ctime(os.path.getmtime(image_file))  # Getting last modified time\n",
    "            \n",
    "            # Appending a dictionary with metadata to the list\n",
    "            metadata.append({\n",
    "                'file_name': os.path.basename(image_file),  # Getting image file name\n",
    "                'resolution': resolution,\n",
    "                'file_size': file_size,\n",
    "                'format': image_format,\n",
    "                'mode': mode,\n",
    "                'last_modified': last_modified_time\n",
    "            })\n",
    "    \n",
    "    return metadata  # Returning the list of dictionaries containing transformed metadata"
   ]
  },
  {
   "cell_type": "markdown",
   "metadata": {},
   "source": [
    "## <b>Load Data"
   ]
  },
  {
   "cell_type": "code",
   "execution_count": 20,
   "metadata": {},
   "outputs": [],
   "source": [
    "def load_metadata_to_db(metadata, db_file='image_metadata.db'):\n",
    "    conn = sqlite3.connect(db_file)\n",
    "    c = conn.cursor()\n",
    "    \n",
    "    # Droping the existing table if it exists\n",
    "    c.execute('''\n",
    "        DROP TABLE IF EXISTS image_metadata\n",
    "    ''')\n",
    "    \n",
    "    # Creating a new table with the updated schema\n",
    "    c.execute('''\n",
    "        CREATE TABLE IF NOT EXISTS image_metadata (\n",
    "            file_name TEXT,\n",
    "            resolution TEXT,\n",
    "            file_size INTEGER,\n",
    "            format TEXT,\n",
    "            mode TEXT,\n",
    "            last_modified TEXT\n",
    "        )\n",
    "    ''')\n",
    "    \n",
    "    for data in metadata:\n",
    "        c.execute('''\n",
    "            INSERT INTO image_metadata (file_name, resolution, file_size, format, mode, last_modified)\n",
    "            VALUES (?, ?, ?, ?, ?, ?)\n",
    "        ''', (data['file_name'], f\"{data['resolution'][0]}x{data['resolution'][1]}\", data['file_size'], data['format'], data['mode'], data['last_modified']))\n",
    "    \n",
    "    conn.commit()\n",
    "    conn.close()"
   ]
  },
  {
   "cell_type": "markdown",
   "metadata": {},
   "source": [
    "## <b>Main Code Run"
   ]
  },
  {
   "cell_type": "code",
   "execution_count": 21,
   "metadata": {},
   "outputs": [],
   "source": [
    "if __name__ == \"__main__\":\n",
    "    directory = 'Image_Data'  # The directory containing image files\n",
    "    image_files = extract_image_files(directory)  # Extracting image files from directory\n",
    "    metadata = transform_image_metadata(image_files)  # Transforming image metadata\n",
    "    load_metadata_to_db(metadata)  # Loading transformed metadata into SQLite database"
   ]
  }
 ],
 "metadata": {
  "kernelspec": {
   "display_name": "venv",
   "language": "python",
   "name": "python3"
  },
  "language_info": {
   "codemirror_mode": {
    "name": "ipython",
    "version": 3
   },
   "file_extension": ".py",
   "mimetype": "text/x-python",
   "name": "python",
   "nbconvert_exporter": "python",
   "pygments_lexer": "ipython3",
   "version": "3.12.2"
  }
 },
 "nbformat": 4,
 "nbformat_minor": 2
}
